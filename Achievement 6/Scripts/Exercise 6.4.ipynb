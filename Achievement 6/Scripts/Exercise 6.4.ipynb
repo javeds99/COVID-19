{
 "cells": [
  {
   "cell_type": "markdown",
   "id": "89f9a76a",
   "metadata": {},
   "source": [
    "# Exercise 6.4"
   ]
  },
  {
   "cell_type": "markdown",
   "id": "6aa34f47",
   "metadata": {},
   "source": [
    "**Steps 1-3:**"
   ]
  },
  {
   "cell_type": "code",
   "execution_count": 2,
   "id": "80e181df",
   "metadata": {},
   "outputs": [],
   "source": [
    "path = r'C:/Users/javed/Achievement 6'"
   ]
  },
  {
   "cell_type": "code",
   "execution_count": 3,
   "id": "d0b05f48",
   "metadata": {},
   "outputs": [],
   "source": [
    "%matplotlib inline"
   ]
  },
  {
   "cell_type": "code",
   "execution_count": 1,
   "id": "16a9c7c2",
   "metadata": {},
   "outputs": [],
   "source": [
    "#1. Install the scikit-learn library."
   ]
  },
  {
   "cell_type": "code",
   "execution_count": 1,
   "id": "6f98166a",
   "metadata": {},
   "outputs": [],
   "source": [
    "#2. Import the libraries you need into a new notebook, including any necessary modules from scikit-learn.\n",
    "\n",
    "import pandas as pd\n",
    "import numpy as np\n",
    "import seaborn as sns\n",
    "import matplotlib\n",
    "import os\n",
    "import matplotlib.pyplot as plt\n",
    "import sklearn\n",
    "from sklearn.model_selection import train_test_split\n",
    "from sklearn.linear_model import LinearRegression\n",
    "from sklearn.metrics import mean_squared_error, r2_score"
   ]
  },
  {
   "cell_type": "code",
   "execution_count": 4,
   "id": "a4b06542",
   "metadata": {},
   "outputs": [],
   "source": [
    "#3. Clean your data so that it’s ready for analysis.\n",
    "df = pd.read_excel(os.path.join(path, 'Data', 'ac6_dataset.xlsx'), index_col = False)"
   ]
  },
  {
   "cell_type": "code",
   "execution_count": 5,
   "id": "59b41491",
   "metadata": {},
   "outputs": [
    {
     "data": {
      "text/plain": [
       "Date Reported          0\n",
       "Country Code         691\n",
       "Country                0\n",
       "New Cases              0\n",
       "Cumulative Cases       0\n",
       "New Deaths             0\n",
       "Cumulative Deaths      0\n",
       "dtype: int64"
      ]
     },
     "execution_count": 5,
     "metadata": {},
     "output_type": "execute_result"
    }
   ],
   "source": [
    "df.isnull().sum()"
   ]
  },
  {
   "cell_type": "code",
   "execution_count": 5,
   "id": "0e5c2280",
   "metadata": {},
   "outputs": [],
   "source": [
    "df_nan = df[df['Country Code'].isnull() == True]"
   ]
  },
  {
   "cell_type": "code",
   "execution_count": 22,
   "id": "ab540a78",
   "metadata": {},
   "outputs": [
    {
     "data": {
      "text/html": [
       "<div>\n",
       "<style scoped>\n",
       "    .dataframe tbody tr th:only-of-type {\n",
       "        vertical-align: middle;\n",
       "    }\n",
       "\n",
       "    .dataframe tbody tr th {\n",
       "        vertical-align: top;\n",
       "    }\n",
       "\n",
       "    .dataframe thead th {\n",
       "        text-align: right;\n",
       "    }\n",
       "</style>\n",
       "<table border=\"1\" class=\"dataframe\">\n",
       "  <thead>\n",
       "    <tr style=\"text-align: right;\">\n",
       "      <th></th>\n",
       "      <th>Date Reported</th>\n",
       "      <th>Country Code</th>\n",
       "      <th>Country</th>\n",
       "      <th>New Cases</th>\n",
       "      <th>Cumulative Cases</th>\n",
       "      <th>New Deaths</th>\n",
       "      <th>Cumulative Deaths</th>\n",
       "    </tr>\n",
       "  </thead>\n",
       "  <tbody>\n",
       "    <tr>\n",
       "      <th>30824</th>\n",
       "      <td>2021-11-21</td>\n",
       "      <td>NaN</td>\n",
       "      <td>Namibia</td>\n",
       "      <td>9</td>\n",
       "      <td>129085</td>\n",
       "      <td>2</td>\n",
       "      <td>3569</td>\n",
       "    </tr>\n",
       "    <tr>\n",
       "      <th>30825</th>\n",
       "      <td>2021-11-22</td>\n",
       "      <td>NaN</td>\n",
       "      <td>Namibia</td>\n",
       "      <td>0</td>\n",
       "      <td>129085</td>\n",
       "      <td>0</td>\n",
       "      <td>3569</td>\n",
       "    </tr>\n",
       "    <tr>\n",
       "      <th>30826</th>\n",
       "      <td>2021-11-23</td>\n",
       "      <td>NaN</td>\n",
       "      <td>Namibia</td>\n",
       "      <td>20</td>\n",
       "      <td>129105</td>\n",
       "      <td>0</td>\n",
       "      <td>3569</td>\n",
       "    </tr>\n",
       "    <tr>\n",
       "      <th>30835</th>\n",
       "      <td>2021-11-19</td>\n",
       "      <td>NaN</td>\n",
       "      <td>Namibia</td>\n",
       "      <td>5</td>\n",
       "      <td>129074</td>\n",
       "      <td>1</td>\n",
       "      <td>3567</td>\n",
       "    </tr>\n",
       "    <tr>\n",
       "      <th>30836</th>\n",
       "      <td>2021-11-20</td>\n",
       "      <td>NaN</td>\n",
       "      <td>Namibia</td>\n",
       "      <td>2</td>\n",
       "      <td>129076</td>\n",
       "      <td>0</td>\n",
       "      <td>3567</td>\n",
       "    </tr>\n",
       "    <tr>\n",
       "      <th>...</th>\n",
       "      <td>...</td>\n",
       "      <td>...</td>\n",
       "      <td>...</td>\n",
       "      <td>...</td>\n",
       "      <td>...</td>\n",
       "      <td>...</td>\n",
       "      <td>...</td>\n",
       "    </tr>\n",
       "    <tr>\n",
       "      <th>142950</th>\n",
       "      <td>2020-07-06</td>\n",
       "      <td>NaN</td>\n",
       "      <td>Namibia</td>\n",
       "      <td>37</td>\n",
       "      <td>412</td>\n",
       "      <td>0</td>\n",
       "      <td>0</td>\n",
       "    </tr>\n",
       "    <tr>\n",
       "      <th>142951</th>\n",
       "      <td>2020-07-07</td>\n",
       "      <td>NaN</td>\n",
       "      <td>Namibia</td>\n",
       "      <td>73</td>\n",
       "      <td>485</td>\n",
       "      <td>0</td>\n",
       "      <td>0</td>\n",
       "    </tr>\n",
       "    <tr>\n",
       "      <th>142952</th>\n",
       "      <td>2020-07-08</td>\n",
       "      <td>NaN</td>\n",
       "      <td>Namibia</td>\n",
       "      <td>54</td>\n",
       "      <td>539</td>\n",
       "      <td>0</td>\n",
       "      <td>0</td>\n",
       "    </tr>\n",
       "    <tr>\n",
       "      <th>142953</th>\n",
       "      <td>2020-07-09</td>\n",
       "      <td>NaN</td>\n",
       "      <td>Namibia</td>\n",
       "      <td>54</td>\n",
       "      <td>593</td>\n",
       "      <td>0</td>\n",
       "      <td>0</td>\n",
       "    </tr>\n",
       "    <tr>\n",
       "      <th>142954</th>\n",
       "      <td>2020-07-10</td>\n",
       "      <td>NaN</td>\n",
       "      <td>Namibia</td>\n",
       "      <td>22</td>\n",
       "      <td>615</td>\n",
       "      <td>0</td>\n",
       "      <td>0</td>\n",
       "    </tr>\n",
       "  </tbody>\n",
       "</table>\n",
       "<p>691 rows × 7 columns</p>\n",
       "</div>"
      ],
      "text/plain": [
       "       Date Reported Country Code  Country  New Cases  Cumulative Cases  \\\n",
       "30824     2021-11-21          NaN  Namibia          9            129085   \n",
       "30825     2021-11-22          NaN  Namibia          0            129085   \n",
       "30826     2021-11-23          NaN  Namibia         20            129105   \n",
       "30835     2021-11-19          NaN  Namibia          5            129074   \n",
       "30836     2021-11-20          NaN  Namibia          2            129076   \n",
       "...              ...          ...      ...        ...               ...   \n",
       "142950    2020-07-06          NaN  Namibia         37               412   \n",
       "142951    2020-07-07          NaN  Namibia         73               485   \n",
       "142952    2020-07-08          NaN  Namibia         54               539   \n",
       "142953    2020-07-09          NaN  Namibia         54               593   \n",
       "142954    2020-07-10          NaN  Namibia         22               615   \n",
       "\n",
       "        New Deaths  Cumulative Deaths  \n",
       "30824            2               3569  \n",
       "30825            0               3569  \n",
       "30826            0               3569  \n",
       "30835            1               3567  \n",
       "30836            0               3567  \n",
       "...            ...                ...  \n",
       "142950           0                  0  \n",
       "142951           0                  0  \n",
       "142952           0                  0  \n",
       "142953           0                  0  \n",
       "142954           0                  0  \n",
       "\n",
       "[691 rows x 7 columns]"
      ]
     },
     "execution_count": 22,
     "metadata": {},
     "output_type": "execute_result"
    }
   ],
   "source": [
    "df_nan"
   ]
  },
  {
   "cell_type": "markdown",
   "id": "f936bcfd",
   "metadata": {},
   "source": [
    "We see that the 'null values' are not actually null values, rather they represent the country of **Namibia.**"
   ]
  },
  {
   "cell_type": "code",
   "execution_count": 6,
   "id": "97087ec8",
   "metadata": {},
   "outputs": [],
   "source": [
    "# Fixing the Country Code issue:\n",
    "# The Country Code column does not add or take away from the analysis, so it is redundant and can be dropped.\n",
    "\n",
    "df = df.drop('Country Code', 1)"
   ]
  },
  {
   "cell_type": "code",
   "execution_count": 7,
   "id": "25d68037",
   "metadata": {},
   "outputs": [
    {
     "data": {
      "text/plain": [
       "Date Reported        0\n",
       "Country              0\n",
       "New Cases            0\n",
       "Cumulative Cases     0\n",
       "New Deaths           0\n",
       "Cumulative Deaths    0\n",
       "dtype: int64"
      ]
     },
     "execution_count": 7,
     "metadata": {},
     "output_type": "execute_result"
    }
   ],
   "source": [
    "df.isnull().sum()"
   ]
  },
  {
   "cell_type": "code",
   "execution_count": 11,
   "id": "c98df5ce",
   "metadata": {},
   "outputs": [],
   "source": [
    "df.to_excel(os.path.join(path, 'Data', 'ac6_data.xlsx'), index=False)"
   ]
  },
  {
   "cell_type": "code",
   "execution_count": 8,
   "id": "c4a722f9",
   "metadata": {},
   "outputs": [],
   "source": [
    "dups = df.duplicated()"
   ]
  },
  {
   "cell_type": "code",
   "execution_count": 9,
   "id": "20e28a21",
   "metadata": {},
   "outputs": [
    {
     "data": {
      "text/plain": [
       "(163076,)"
      ]
     },
     "execution_count": 9,
     "metadata": {},
     "output_type": "execute_result"
    }
   ],
   "source": [
    "dups.shape"
   ]
  },
  {
   "cell_type": "markdown",
   "id": "15cc225d",
   "metadata": {},
   "source": [
    "No duplicates found."
   ]
  },
  {
   "cell_type": "code",
   "execution_count": 7,
   "id": "ee455581",
   "metadata": {},
   "outputs": [
    {
     "data": {
      "image/png": "[encoded data removed]",
      "text/plain": [
       "<Figure size 432x288 with 1 Axes>"
      ]
     },
     "metadata": {
      "needs_background": "light"
     },
     "output_type": "display_data"
    }
   ],
   "source": [
    "#4. Explore your data visually , looking for variables whose relationship you’d like to test.\n",
    "\n",
    "df.plot(x='Cumulative Cases', y='Cumulative Deaths', style='o')\n",
    "plt.title('Covid-19 Cases vs Deaths')\n",
    "plt.xlabel('Cumulative Cases')\n",
    "plt.ylabel('Cumulative Deaths')\n",
    "\n",
    "plt.show()"
   ]
  },
  {
   "cell_type": "code",
   "execution_count": null,
   "id": "1be3a4cf",
   "metadata": {},
   "outputs": [],
   "source": [
    "#5. State your hypothesis in a markdown cell within your Jupyter notebook."
   ]
  },
  {
   "cell_type": "markdown",
   "id": "50ac1825",
   "metadata": {},
   "source": [
    "New deaths and new cases do not have a strong correlation."
   ]
  },
  {
   "cell_type": "code",
   "execution_count": 8,
   "id": "01cdc34a",
   "metadata": {},
   "outputs": [],
   "source": [
    "#6. Reshape the variables into NumPy arrays.\n",
    "\n",
    "X = df['Cumulative Cases'].values.reshape(-1,1)\n",
    "y = df['Cumulative Deaths'].values.reshape(-1,1)"
   ]
  },
  {
   "cell_type": "code",
   "execution_count": 16,
   "id": "17b5d250",
   "metadata": {},
   "outputs": [
    {
     "data": {
      "text/plain": [
       "array([[ 61596],\n",
       "       [115925],\n",
       "       [120516],\n",
       "       ...,\n",
       "       [     1],\n",
       "       [     0],\n",
       "       [     0]], dtype=int64)"
      ]
     },
     "execution_count": 16,
     "metadata": {},
     "output_type": "execute_result"
    }
   ],
   "source": [
    "X"
   ]
  },
  {
   "cell_type": "code",
   "execution_count": 17,
   "id": "d1b8939f",
   "metadata": {},
   "outputs": [
    {
     "data": {
      "text/plain": [
       "array([[ 428],\n",
       "       [1840],\n",
       "       [3911],\n",
       "       ...,\n",
       "       [   0],\n",
       "       [   0],\n",
       "       [   0]], dtype=int64)"
      ]
     },
     "execution_count": 17,
     "metadata": {},
     "output_type": "execute_result"
    }
   ],
   "source": [
    "y"
   ]
  },
  {
   "cell_type": "code",
   "execution_count": 9,
   "id": "c821a117",
   "metadata": {},
   "outputs": [],
   "source": [
    "#7. Split data into two sets: a training set and a test set.\n",
    "\n",
    "X_train, X_test, y_train, y_test = train_test_split(X, y, test_size=0.3, random_state=0)"
   ]
  },
  {
   "cell_type": "code",
   "execution_count": 10,
   "id": "971c23d3",
   "metadata": {},
   "outputs": [],
   "source": [
    "#8. Run a linear regression on the data. Fit the model you created to the training set, and create a prediction for y on the test set.\n",
    "regression = LinearRegression()"
   ]
  },
  {
   "cell_type": "code",
   "execution_count": 11,
   "id": "6baecb5f",
   "metadata": {},
   "outputs": [
    {
     "data": {
      "text/plain": [
       "LinearRegression()"
      ]
     },
     "execution_count": 11,
     "metadata": {},
     "output_type": "execute_result"
    }
   ],
   "source": [
    "regression.fit(X_train, y_train)"
   ]
  },
  {
   "cell_type": "code",
   "execution_count": 12,
   "id": "99fbb575",
   "metadata": {},
   "outputs": [],
   "source": [
    "y_predicted = regression.predict(X_test)"
   ]
  },
  {
   "cell_type": "code",
   "execution_count": 15,
   "id": "8d026358",
   "metadata": {},
   "outputs": [
    {
     "data": {
      "image/png": "[encoded data removed]",
      "text/plain": [
       "<Figure size 432x288 with 1 Axes>"
      ]
     },
     "metadata": {
      "needs_background": "light"
     },
     "output_type": "display_data"
    }
   ],
   "source": [
    "#9. Create a plot that shows the regression line on the test set.\n",
    "plot_test = plt\n",
    "plot_test.scatter(X_test, y_test, color='gray', s = 15)\n",
    "plot_test.plot(X_test, y_predicted, color='red', linewidth =3)\n",
    "plot_test.title('Covid-19 Cumulative Cases vs Cumulative Deaths')\n",
    "plot_test.xlabel('New Cases')\n",
    "plot_test.ylabel('New Deaths')\n",
    "plot_test.show()"
   ]
  },
  {
   "cell_type": "code",
   "execution_count": null,
   "id": "c7914547",
   "metadata": {},
   "outputs": [],
   "source": []
  },
  {
   "cell_type": "code",
   "execution_count": null,
   "id": "2426050e",
   "metadata": {},
   "outputs": [],
   "source": [
    "#10. Write your own interpretation of how well the line appears to fit the data in a markdown cell."
   ]
  },
  {
   "cell_type": "markdown",
   "id": "517bcef3",
   "metadata": {},
   "source": [
    "While still not the best fit, the line in this scatterplot fits better than the previous chart."
   ]
  },
  {
   "cell_type": "code",
   "execution_count": 23,
   "id": "12277d76",
   "metadata": {},
   "outputs": [],
   "source": [
    "#11. Check the model performance statistics—MSE and R2.\n",
    "\n",
    "rmse = mean_squared_error(y_test, y_predicted) \n",
    "r2 = r2_score(y_test, y_predicted)"
   ]
  },
  {
   "cell_type": "code",
   "execution_count": 24,
   "id": "eebd8a2c",
   "metadata": {},
   "outputs": [
    {
     "name": "stdout",
     "output_type": "stream",
     "text": [
      "Slope: [[0.01444534]]\n",
      "Mean squared error:  9132.317678026457\n",
      "R2 score:  0.6698308388841818\n"
     ]
    }
   ],
   "source": [
    "print('Slope:' ,regression.coef_)\n",
    "print('Mean squared error: ', rmse)\n",
    "print('R2 score: ', r2)"
   ]
  },
  {
   "cell_type": "code",
   "execution_count": 25,
   "id": "451a7b84",
   "metadata": {},
   "outputs": [
    {
     "data": {
      "text/html": [
       "<div>\n",
       "<style scoped>\n",
       "    .dataframe tbody tr th:only-of-type {\n",
       "        vertical-align: middle;\n",
       "    }\n",
       "\n",
       "    .dataframe tbody tr th {\n",
       "        vertical-align: top;\n",
       "    }\n",
       "\n",
       "    .dataframe thead th {\n",
       "        text-align: right;\n",
       "    }\n",
       "</style>\n",
       "<table border=\"1\" class=\"dataframe\">\n",
       "  <thead>\n",
       "    <tr style=\"text-align: right;\">\n",
       "      <th></th>\n",
       "      <th>Actual</th>\n",
       "      <th>Predicted</th>\n",
       "    </tr>\n",
       "  </thead>\n",
       "  <tbody>\n",
       "    <tr>\n",
       "      <th>0</th>\n",
       "      <td>1</td>\n",
       "      <td>9.104000</td>\n",
       "    </tr>\n",
       "    <tr>\n",
       "      <th>1</th>\n",
       "      <td>0</td>\n",
       "      <td>9.118446</td>\n",
       "    </tr>\n",
       "    <tr>\n",
       "      <th>2</th>\n",
       "      <td>21</td>\n",
       "      <td>22.321483</td>\n",
       "    </tr>\n",
       "    <tr>\n",
       "      <th>3</th>\n",
       "      <td>7</td>\n",
       "      <td>11.400809</td>\n",
       "    </tr>\n",
       "    <tr>\n",
       "      <th>4</th>\n",
       "      <td>45</td>\n",
       "      <td>48.944237</td>\n",
       "    </tr>\n",
       "    <tr>\n",
       "      <th>5</th>\n",
       "      <td>0</td>\n",
       "      <td>9.017328</td>\n",
       "    </tr>\n",
       "    <tr>\n",
       "      <th>6</th>\n",
       "      <td>0</td>\n",
       "      <td>9.031774</td>\n",
       "    </tr>\n",
       "    <tr>\n",
       "      <th>7</th>\n",
       "      <td>1</td>\n",
       "      <td>30.627551</td>\n",
       "    </tr>\n",
       "    <tr>\n",
       "      <th>8</th>\n",
       "      <td>0</td>\n",
       "      <td>9.017328</td>\n",
       "    </tr>\n",
       "    <tr>\n",
       "      <th>9</th>\n",
       "      <td>0</td>\n",
       "      <td>9.017328</td>\n",
       "    </tr>\n",
       "    <tr>\n",
       "      <th>10</th>\n",
       "      <td>6</td>\n",
       "      <td>13.264257</td>\n",
       "    </tr>\n",
       "    <tr>\n",
       "      <th>11</th>\n",
       "      <td>0</td>\n",
       "      <td>9.104000</td>\n",
       "    </tr>\n",
       "    <tr>\n",
       "      <th>12</th>\n",
       "      <td>10</td>\n",
       "      <td>50.475443</td>\n",
       "    </tr>\n",
       "    <tr>\n",
       "      <th>13</th>\n",
       "      <td>0</td>\n",
       "      <td>11.039675</td>\n",
       "    </tr>\n",
       "    <tr>\n",
       "      <th>14</th>\n",
       "      <td>2</td>\n",
       "      <td>9.710704</td>\n",
       "    </tr>\n",
       "    <tr>\n",
       "      <th>15</th>\n",
       "      <td>0</td>\n",
       "      <td>9.017328</td>\n",
       "    </tr>\n",
       "    <tr>\n",
       "      <th>16</th>\n",
       "      <td>0</td>\n",
       "      <td>9.378462</td>\n",
       "    </tr>\n",
       "    <tr>\n",
       "      <th>17</th>\n",
       "      <td>0</td>\n",
       "      <td>9.017328</td>\n",
       "    </tr>\n",
       "    <tr>\n",
       "      <th>18</th>\n",
       "      <td>9</td>\n",
       "      <td>14.824353</td>\n",
       "    </tr>\n",
       "    <tr>\n",
       "      <th>19</th>\n",
       "      <td>0</td>\n",
       "      <td>9.017328</td>\n",
       "    </tr>\n",
       "    <tr>\n",
       "      <th>20</th>\n",
       "      <td>0</td>\n",
       "      <td>9.075110</td>\n",
       "    </tr>\n",
       "    <tr>\n",
       "      <th>21</th>\n",
       "      <td>0</td>\n",
       "      <td>9.017328</td>\n",
       "    </tr>\n",
       "    <tr>\n",
       "      <th>22</th>\n",
       "      <td>0</td>\n",
       "      <td>9.017328</td>\n",
       "    </tr>\n",
       "    <tr>\n",
       "      <th>23</th>\n",
       "      <td>2</td>\n",
       "      <td>9.089555</td>\n",
       "    </tr>\n",
       "    <tr>\n",
       "      <th>24</th>\n",
       "      <td>67</td>\n",
       "      <td>19.446861</td>\n",
       "    </tr>\n",
       "    <tr>\n",
       "      <th>25</th>\n",
       "      <td>0</td>\n",
       "      <td>11.819723</td>\n",
       "    </tr>\n",
       "    <tr>\n",
       "      <th>26</th>\n",
       "      <td>2</td>\n",
       "      <td>10.057392</td>\n",
       "    </tr>\n",
       "    <tr>\n",
       "      <th>27</th>\n",
       "      <td>0</td>\n",
       "      <td>9.046219</td>\n",
       "    </tr>\n",
       "    <tr>\n",
       "      <th>28</th>\n",
       "      <td>4</td>\n",
       "      <td>12.599772</td>\n",
       "    </tr>\n",
       "    <tr>\n",
       "      <th>29</th>\n",
       "      <td>21</td>\n",
       "      <td>15.431058</td>\n",
       "    </tr>\n",
       "  </tbody>\n",
       "</table>\n",
       "</div>"
      ],
      "text/plain": [
       "    Actual  Predicted\n",
       "0        1   9.104000\n",
       "1        0   9.118446\n",
       "2       21  22.321483\n",
       "3        7  11.400809\n",
       "4       45  48.944237\n",
       "5        0   9.017328\n",
       "6        0   9.031774\n",
       "7        1  30.627551\n",
       "8        0   9.017328\n",
       "9        0   9.017328\n",
       "10       6  13.264257\n",
       "11       0   9.104000\n",
       "12      10  50.475443\n",
       "13       0  11.039675\n",
       "14       2   9.710704\n",
       "15       0   9.017328\n",
       "16       0   9.378462\n",
       "17       0   9.017328\n",
       "18       9  14.824353\n",
       "19       0   9.017328\n",
       "20       0   9.075110\n",
       "21       0   9.017328\n",
       "22       0   9.017328\n",
       "23       2   9.089555\n",
       "24      67  19.446861\n",
       "25       0  11.819723\n",
       "26       2  10.057392\n",
       "27       0   9.046219\n",
       "28       4  12.599772\n",
       "29      21  15.431058"
      ]
     },
     "execution_count": 25,
     "metadata": {},
     "output_type": "execute_result"
    }
   ],
   "source": [
    "#12. Compare the predicted y values with the actual y values in a dataframe.\n",
    "\n",
    "data = pd.DataFrame({'Actual': y_test.flatten(), 'Predicted': y_predicted.flatten()})\n",
    "data.head(30)"
   ]
  },
  {
   "cell_type": "code",
   "execution_count": null,
   "id": "24d8467a",
   "metadata": {},
   "outputs": [],
   "source": [
    "#13. Include your thoughts on how well the model performed on the test set in a markdown cell."
   ]
  },
  {
   "cell_type": "markdown",
   "id": "95313d92",
   "metadata": {},
   "source": [
    "The model did not perform well. This can be seen by looking at the y values for the 'Actuals' and 'Predicted', as the numbers are way off."
   ]
  }
 ],
 "metadata": {
  "kernelspec": {
   "display_name": "Python 3",
   "language": "python",
   "name": "python3"
  },
  "language_info": {
   "codemirror_mode": {
    "name": "ipython",
    "version": 3
   },
   "file_extension": ".py",
   "mimetype": "text/x-python",
   "name": "python",
   "nbconvert_exporter": "python",
   "pygments_lexer": "ipython3",
   "version": "3.8.8"
  }
 },
 "nbformat": 4,
 "nbformat_minor": 5
}
