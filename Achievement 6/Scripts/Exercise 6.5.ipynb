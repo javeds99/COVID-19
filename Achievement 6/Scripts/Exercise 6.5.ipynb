{
 "cells": [
  {
   "cell_type": "markdown",
   "id": "b5217e2b",
   "metadata": {},
   "source": [
    "# Exercise 6.5"
   ]
  },
  {
   "cell_type": "markdown",
   "id": "f7bcc330",
   "metadata": {},
   "source": [
    "**Steps 1-2:**"
   ]
  },
  {
   "cell_type": "code",
   "execution_count": 1,
   "id": "5a597367",
   "metadata": {},
   "outputs": [],
   "source": [
    "#1. Install and import all necessary libraries in your Jupyter notebook.\n",
    "\n",
    "import pandas as pd\n",
    "import numpy as np\n",
    "import seaborn as sns\n",
    "import os\n",
    "import matplotlib.pyplot as plt\n",
    "import matplotlib\n",
    "import sklearn\n",
    "from sklearn.cluster import KMeans\n",
    "import pylab as pl"
   ]
  },
  {
   "cell_type": "code",
   "execution_count": 7,
   "id": "2568f910",
   "metadata": {},
   "outputs": [],
   "source": [
    "#2. Import your data and conduct any necessary cleaning, manipulations, and reprocessing.\n",
    "path = r'C:/Users/javed/Achievement 6'"
   ]
  },
  {
   "cell_type": "code",
   "execution_count": 8,
   "id": "58201fda",
   "metadata": {},
   "outputs": [],
   "source": [
    "df = pd.read_excel(os.path.join(path, 'Data', 'tab_6.xlsx'), index_col = False)"
   ]
  },
  {
   "cell_type": "markdown",
   "id": "c51f4288",
   "metadata": {},
   "source": [
    "**Cleaning/Consistency Checks:**"
   ]
  },
  {
   "cell_type": "code",
   "execution_count": 9,
   "id": "4778320d",
   "metadata": {},
   "outputs": [
    {
     "data": {
      "text/plain": [
       "Date Reported        0\n",
       "Country              0\n",
       "New Cases            0\n",
       "Cumulative Cases     0\n",
       "New Deaths           0\n",
       "Cumulative Deaths    0\n",
       "dtype: int64"
      ]
     },
     "execution_count": 9,
     "metadata": {},
     "output_type": "execute_result"
    }
   ],
   "source": [
    "df.isnull().sum()"
   ]
  },
  {
   "cell_type": "code",
   "execution_count": 11,
   "id": "b82e5309",
   "metadata": {},
   "outputs": [],
   "source": [
    "dup = df.duplicated()"
   ]
  },
  {
   "cell_type": "code",
   "execution_count": 12,
   "id": "8719e8a0",
   "metadata": {},
   "outputs": [
    {
     "data": {
      "text/plain": [
       "(163076,)"
      ]
     },
     "execution_count": 12,
     "metadata": {},
     "output_type": "execute_result"
    }
   ],
   "source": [
    "dup.shape"
   ]
  },
  {
   "cell_type": "markdown",
   "id": "d3284be8",
   "metadata": {},
   "source": [
    "No missing or duplicate data found."
   ]
  },
  {
   "cell_type": "code",
   "execution_count": 13,
   "id": "594f62ef",
   "metadata": {},
   "outputs": [
    {
     "data": {
      "text/plain": [
       "<AxesSubplot:xlabel='New Cases', ylabel='Count'>"
      ]
     },
     "execution_count": 13,
     "metadata": {},
     "output_type": "execute_result"
    },
    {
     "data": {
      "image/png": "[encoded data removed]",
      "text/plain": [
       "<Figure size 432x288 with 1 Axes>"
      ]
     },
     "metadata": {
      "needs_background": "light"
     },
     "output_type": "display_data"
    }
   ],
   "source": [
    "sns.histplot(df['New Cases'], bins=20, kde=True)"
   ]
  },
  {
   "cell_type": "code",
   "execution_count": 10,
   "id": "4cf56d37",
   "metadata": {},
   "outputs": [],
   "source": [
    "#No categorical data can be present for a K-mean algorithm, so 'Country' will be removed in a new subset.\n",
    "\n",
    "df1 = df[[ 'New Cases', 'New Deaths', 'Cumulative Cases', 'Cumulative Deaths']]"
   ]
  },
  {
   "cell_type": "markdown",
   "id": "9a551a94",
   "metadata": {},
   "source": [
    "**Steps 3-4:**"
   ]
  },
  {
   "cell_type": "code",
   "execution_count": 11,
   "id": "4c788554",
   "metadata": {},
   "outputs": [],
   "source": [
    "#3. Use the elbow technique as shown in the Jupyter notebook for this Exercise.\n",
    "num_cl = range(1,10)\n",
    "kmeans = [KMeans(n_clusters=i) for i in num_cl]"
   ]
  },
  {
   "cell_type": "code",
   "execution_count": 12,
   "id": "b6bc4e1a",
   "metadata": {},
   "outputs": [
    {
     "name": "stderr",
     "output_type": "stream",
     "text": [
      "C:\\Users\\javed\\anaconda3\\lib\\site-packages\\sklearn\\cluster\\_kmeans.py:881: UserWarning: KMeans is known to have a memory leak on Windows with MKL, when there are less chunks than available threads. You can avoid it by setting the environment variable OMP_NUM_THREADS=2.\n",
      "  warnings.warn(\n"
     ]
    }
   ],
   "source": [
    "score = [kmeans[i].fit(df1).score(df1) for i in range(len(kmeans))]"
   ]
  },
  {
   "cell_type": "code",
   "execution_count": 13,
   "id": "62b69340",
   "metadata": {},
   "outputs": [
    {
     "data": {
      "text/plain": [
       "[-4920681599433681.0,\n",
       " -1245738423758445.5,\n",
       " -631453548965936.0,\n",
       " -288069003525095.44,\n",
       " -175784043014246.06,\n",
       " -92424997701728.6,\n",
       " -47837359388748.94,\n",
       " -29995250745609.527,\n",
       " -22520934556000.383]"
      ]
     },
     "execution_count": 13,
     "metadata": {},
     "output_type": "execute_result"
    }
   ],
   "source": [
    "score"
   ]
  },
  {
   "cell_type": "code",
   "execution_count": 14,
   "id": "328116c4",
   "metadata": {},
   "outputs": [
    {
     "data": {
      "image/png": "[encoded data removed]",
      "text/plain": [
       "<Figure size 432x288 with 1 Axes>"
      ]
     },
     "metadata": {
      "needs_background": "light"
     },
     "output_type": "display_data"
    }
   ],
   "source": [
    "pl.plot(num_cl,score)\n",
    "pl.xlabel('Number of Clusters')\n",
    "pl.ylabel('Score')\n",
    "pl.title('Elbow Curve')\n",
    "pl.show()"
   ]
  },
  {
   "cell_type": "markdown",
   "id": "6cc0f766",
   "metadata": {},
   "source": [
    "The line flattens at 3, indicating that the number of clusters is **3**."
   ]
  },
  {
   "cell_type": "markdown",
   "id": "972ae399",
   "metadata": {},
   "source": [
    "**Steps 5-8:**"
   ]
  },
  {
   "cell_type": "code",
   "execution_count": 15,
   "id": "541a13b5",
   "metadata": {},
   "outputs": [],
   "source": [
    "# Run the k-means algorithm.\n",
    "\n",
    "kmeans = KMeans(n_clusters = 3, n_jobs = -1) \n"
   ]
  },
  {
   "cell_type": "code",
   "execution_count": 16,
   "id": "67b77a04",
   "metadata": {},
   "outputs": [
    {
     "name": "stderr",
     "output_type": "stream",
     "text": [
      "C:\\Users\\javed\\anaconda3\\lib\\site-packages\\sklearn\\cluster\\_kmeans.py:792: FutureWarning: 'n_jobs' was deprecated in version 0.23 and will be removed in 1.0 (renaming of 0.25).\n",
      "  warnings.warn(\"'n_jobs' was deprecated in version 0.23 and will be\"\n"
     ]
    },
    {
     "data": {
      "text/plain": [
       "KMeans(n_clusters=3, n_jobs=-1)"
      ]
     },
     "execution_count": 16,
     "metadata": {},
     "output_type": "execute_result"
    }
   ],
   "source": [
    "kmeans.fit(df1)"
   ]
  },
  {
   "cell_type": "code",
   "execution_count": 17,
   "id": "5e0d2010",
   "metadata": {},
   "outputs": [
    {
     "name": "stderr",
     "output_type": "stream",
     "text": [
      "C:\\Users\\javed\\anaconda3\\lib\\site-packages\\sklearn\\cluster\\_kmeans.py:792: FutureWarning: 'n_jobs' was deprecated in version 0.23 and will be removed in 1.0 (renaming of 0.25).\n",
      "  warnings.warn(\"'n_jobs' was deprecated in version 0.23 and will be\"\n",
      "<ipython-input-17-2a0258395ef4>:2: SettingWithCopyWarning: \n",
      "A value is trying to be set on a copy of a slice from a DataFrame.\n",
      "Try using .loc[row_indexer,col_indexer] = value instead\n",
      "\n",
      "See the caveats in the documentation: https://pandas.pydata.org/pandas-docs/stable/user_guide/indexing.html#returning-a-view-versus-a-copy\n",
      "  df1['clusters'] = kmeans.fit_predict(df1)\n"
     ]
    }
   ],
   "source": [
    "#6. Attach a new column to your dataframe with the resulting clusters as shown in the Exercise. \n",
    "df1['clusters'] = kmeans.fit_predict(df1)"
   ]
  },
  {
   "cell_type": "code",
   "execution_count": 18,
   "id": "ae5eb083",
   "metadata": {},
   "outputs": [
    {
     "data": {
      "text/html": [
       "<div>\n",
       "<style scoped>\n",
       "    .dataframe tbody tr th:only-of-type {\n",
       "        vertical-align: middle;\n",
       "    }\n",
       "\n",
       "    .dataframe tbody tr th {\n",
       "        vertical-align: top;\n",
       "    }\n",
       "\n",
       "    .dataframe thead th {\n",
       "        text-align: right;\n",
       "    }\n",
       "</style>\n",
       "<table border=\"1\" class=\"dataframe\">\n",
       "  <thead>\n",
       "    <tr style=\"text-align: right;\">\n",
       "      <th></th>\n",
       "      <th>New Cases</th>\n",
       "      <th>New Deaths</th>\n",
       "      <th>Cumulative Cases</th>\n",
       "      <th>Cumulative Deaths</th>\n",
       "      <th>clusters</th>\n",
       "    </tr>\n",
       "  </thead>\n",
       "  <tbody>\n",
       "    <tr>\n",
       "      <th>0</th>\n",
       "      <td>217119</td>\n",
       "      <td>3330</td>\n",
       "      <td>19614114</td>\n",
       "      <td>352144</td>\n",
       "      <td>2</td>\n",
       "    </tr>\n",
       "    <tr>\n",
       "      <th>1</th>\n",
       "      <td>58718</td>\n",
       "      <td>1111</td>\n",
       "      <td>7563551</td>\n",
       "      <td>192681</td>\n",
       "      <td>2</td>\n",
       "    </tr>\n",
       "    <tr>\n",
       "      <th>2</th>\n",
       "      <td>21822</td>\n",
       "      <td>299</td>\n",
       "      <td>10266674</td>\n",
       "      <td>148738</td>\n",
       "      <td>2</td>\n",
       "    </tr>\n",
       "    <tr>\n",
       "      <th>3</th>\n",
       "      <td>16099</td>\n",
       "      <td>971</td>\n",
       "      <td>1496068</td>\n",
       "      <td>147625</td>\n",
       "      <td>0</td>\n",
       "    </tr>\n",
       "    <tr>\n",
       "      <th>4</th>\n",
       "      <td>1588</td>\n",
       "      <td>143</td>\n",
       "      <td>1010496</td>\n",
       "      <td>93066</td>\n",
       "      <td>0</td>\n",
       "    </tr>\n",
       "  </tbody>\n",
       "</table>\n",
       "</div>"
      ],
      "text/plain": [
       "   New Cases  New Deaths  Cumulative Cases  Cumulative Deaths  clusters\n",
       "0     217119        3330          19614114             352144         2\n",
       "1      58718        1111           7563551             192681         2\n",
       "2      21822         299          10266674             148738         2\n",
       "3      16099         971           1496068             147625         0\n",
       "4       1588         143           1010496              93066         0"
      ]
     },
     "execution_count": 18,
     "metadata": {},
     "output_type": "execute_result"
    }
   ],
   "source": [
    "df1.head()"
   ]
  },
  {
   "cell_type": "code",
   "execution_count": 19,
   "id": "0cb77916",
   "metadata": {},
   "outputs": [
    {
     "data": {
      "text/plain": [
       "0    456\n",
       "2     14\n",
       "1      2\n",
       "Name: clusters, dtype: int64"
      ]
     },
     "execution_count": 19,
     "metadata": {},
     "output_type": "execute_result"
    }
   ],
   "source": [
    "df1['clusters'].value_counts()"
   ]
  },
  {
   "cell_type": "code",
   "execution_count": 20,
   "id": "02ce97aa",
   "metadata": {},
   "outputs": [
    {
     "data": {
      "image/png": "[encoded data removed]",
      "text/plain": [
       "<Figure size 864x576 with 1 Axes>"
      ]
     },
     "metadata": {
      "needs_background": "light"
     },
     "output_type": "display_data"
    }
   ],
   "source": [
    "#7. Create a few different visualizations using your clustered data. \n",
    "\n",
    "plt.figure(figsize=(12,8))\n",
    "ax = sns.scatterplot(x=df1['New Cases'], y=df1['New Deaths'], hue=kmeans.labels_, s=100)\n",
    "\n",
    "ax.grid(False)\n",
    "plt.xlabel('New Cases') \n",
    "plt.ylabel('New Deaths') \n",
    "plt.show()\n"
   ]
  },
  {
   "cell_type": "code",
   "execution_count": 21,
   "id": "549a6851",
   "metadata": {},
   "outputs": [
    {
     "data": {
      "image/png": "[encoded data removed]",
      "text/plain": [
       "<Figure size 864x576 with 1 Axes>"
      ]
     },
     "metadata": {
      "needs_background": "light"
     },
     "output_type": "display_data"
    }
   ],
   "source": [
    "plt.figure(figsize=(12,8))\n",
    "ax = sns.scatterplot(x=df1['Cumulative Cases'], y=df1['Cumulative Deaths'], hue=kmeans.labels_, s=100)\n",
    "\n",
    "ax.grid(False)\n",
    "plt.xlabel('Cumulative Cases') \n",
    "plt.ylabel('CumulativeDeaths') \n",
    "plt.show()"
   ]
  },
  {
   "cell_type": "code",
   "execution_count": null,
   "id": "3c298626",
   "metadata": {},
   "outputs": [],
   "source": [
    "#8. Discuss how and why the clusters do or don't make sense."
   ]
  },
  {
   "cell_type": "markdown",
   "id": "9ba99771",
   "metadata": {},
   "source": [
    "The first visual shows new COVID-19 cases vs deaths. This chart is easier to read out of the two, and you can see some patterns in the clusters. However, the second visual shows cumulative COVID-19 cases vs deaths. This chart is a bit harder to interpret. "
   ]
  },
  {
   "cell_type": "code",
   "execution_count": 41,
   "id": "0467fdcd",
   "metadata": {},
   "outputs": [],
   "source": [
    "#9. Calculate the descriptive statistics for your clusters using the groupby() function and discuss your findings.\n",
    "df1.loc[df1['clusters'] == 2, 'cluster'] = 'dark purple'\n",
    "df1.loc[df1['clusters'] == 1, 'cluster'] = 'purple'\n",
    "df1.loc[df1['clusters'] == 0, 'cluster'] = 'pink'"
   ]
  },
  {
   "cell_type": "code",
   "execution_count": 42,
   "id": "e9f5d2ec",
   "metadata": {},
   "outputs": [
    {
     "data": {
      "text/html": [
       "<div>\n",
       "<style scoped>\n",
       "    .dataframe tbody tr th:only-of-type {\n",
       "        vertical-align: middle;\n",
       "    }\n",
       "\n",
       "    .dataframe tbody tr th {\n",
       "        vertical-align: top;\n",
       "    }\n",
       "\n",
       "    .dataframe thead tr th {\n",
       "        text-align: left;\n",
       "    }\n",
       "\n",
       "    .dataframe thead tr:last-of-type th {\n",
       "        text-align: right;\n",
       "    }\n",
       "</style>\n",
       "<table border=\"1\" class=\"dataframe\">\n",
       "  <thead>\n",
       "    <tr>\n",
       "      <th></th>\n",
       "      <th colspan=\"2\" halign=\"left\">New Cases</th>\n",
       "      <th colspan=\"2\" halign=\"left\">Cumulative Cases</th>\n",
       "      <th colspan=\"2\" halign=\"left\">New Deaths</th>\n",
       "      <th colspan=\"2\" halign=\"left\">Cumulative Deaths</th>\n",
       "    </tr>\n",
       "    <tr>\n",
       "      <th></th>\n",
       "      <th>mean</th>\n",
       "      <th>median</th>\n",
       "      <th>mean</th>\n",
       "      <th>median</th>\n",
       "      <th>mean</th>\n",
       "      <th>median</th>\n",
       "      <th>mean</th>\n",
       "      <th>median</th>\n",
       "    </tr>\n",
       "    <tr>\n",
       "      <th>cluster</th>\n",
       "      <th></th>\n",
       "      <th></th>\n",
       "      <th></th>\n",
       "      <th></th>\n",
       "      <th></th>\n",
       "      <th></th>\n",
       "      <th></th>\n",
       "      <th></th>\n",
       "    </tr>\n",
       "  </thead>\n",
       "  <tbody>\n",
       "    <tr>\n",
       "      <th>dark purple</th>\n",
       "      <td>21878.401283</td>\n",
       "      <td>13075.5</td>\n",
       "      <td>5.344092e+06</td>\n",
       "      <td>4613557.0</td>\n",
       "      <td>383.706811</td>\n",
       "      <td>199.0</td>\n",
       "      <td>124452.917325</td>\n",
       "      <td>111268</td>\n",
       "    </tr>\n",
       "    <tr>\n",
       "      <th>pink</th>\n",
       "      <td>743.204070</td>\n",
       "      <td>12.0</td>\n",
       "      <td>1.343240e+05</td>\n",
       "      <td>5067.0</td>\n",
       "      <td>17.520004</td>\n",
       "      <td>0.0</td>\n",
       "      <td>3589.747679</td>\n",
       "      <td>76</td>\n",
       "    </tr>\n",
       "    <tr>\n",
       "      <th>purple</th>\n",
       "      <td>72457.365439</td>\n",
       "      <td>43581.5</td>\n",
       "      <td>2.995348e+07</td>\n",
       "      <td>31055173.5</td>\n",
       "      <td>1175.192635</td>\n",
       "      <td>727.5</td>\n",
       "      <td>527079.209632</td>\n",
       "      <td>553353</td>\n",
       "    </tr>\n",
       "  </tbody>\n",
       "</table>\n",
       "</div>"
      ],
      "text/plain": [
       "                New Cases          Cumulative Cases               New Deaths  \\\n",
       "                     mean   median             mean      median         mean   \n",
       "cluster                                                                        \n",
       "dark purple  21878.401283  13075.5     5.344092e+06   4613557.0   383.706811   \n",
       "pink           743.204070     12.0     1.343240e+05      5067.0    17.520004   \n",
       "purple       72457.365439  43581.5     2.995348e+07  31055173.5  1175.192635   \n",
       "\n",
       "                   Cumulative Deaths          \n",
       "            median              mean  median  \n",
       "cluster                                       \n",
       "dark purple  199.0     124452.917325  111268  \n",
       "pink           0.0       3589.747679      76  \n",
       "purple       727.5     527079.209632  553353  "
      ]
     },
     "execution_count": 42,
     "metadata": {},
     "output_type": "execute_result"
    }
   ],
   "source": [
    "df1.groupby('cluster').agg({'New Cases':['mean', 'median'], \n",
    "                         'Cumulative Cases':['mean', 'median'], \n",
    "                         'New Deaths':['mean', 'median'],\n",
    "                          'Cumulative Deaths':['mean', 'median']})"
   ]
  },
  {
   "cell_type": "code",
   "execution_count": null,
   "id": "10798b98",
   "metadata": {},
   "outputs": [],
   "source": [
    "#10. Propose what these results could be useful for in future steps of an analytics pipeline."
   ]
  },
  {
   "cell_type": "markdown",
   "id": "b0d45d0e",
   "metadata": {},
   "source": [
    "These results show that:\n",
    "\n",
    "- On average, the **purple** cluster experiences a higher cumulative death rate.\n",
    "- On average, the **pink** cluster experiences the lowest cumulative death count, and lowest cumulative cases."
   ]
  }
 ],
 "metadata": {
  "kernelspec": {
   "display_name": "Python 3",
   "language": "python",
   "name": "python3"
  },
  "language_info": {
   "codemirror_mode": {
    "name": "ipython",
    "version": 3
   },
   "file_extension": ".py",
   "mimetype": "text/x-python",
   "name": "python",
   "nbconvert_exporter": "python",
   "pygments_lexer": "ipython3",
   "version": "3.8.8"
  }
 },
 "nbformat": 4,
 "nbformat_minor": 5
}
